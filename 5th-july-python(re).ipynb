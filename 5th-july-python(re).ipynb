{
 "cells": [
  {
   "cell_type": "code",
   "execution_count": 2,
   "metadata": {},
   "outputs": [
    {
     "name": "stdout",
     "output_type": "stream",
     "text": [
      "hello word\n"
     ]
    }
   ],
   "source": [
    "msg='hello word'\n",
    "print(msg)"
   ]
  },
  {
   "cell_type": "code",
   "execution_count": null,
   "metadata": {},
   "outputs": [],
   "source": [
    "'''\n",
    "REPL:(read-eval-print loop)\n",
    "   called as language shell\n",
    "   jupiter notebook is a repl\n",
    "   program written in repl is executed piecewise\n",
    "'''"
   ]
  },
  {
   "cell_type": "code",
   "execution_count": 1,
   "metadata": {},
   "outputs": [
    {
     "name": "stdout",
     "output_type": "stream",
     "text": [
      "400\n"
     ]
    }
   ],
   "source": [
    "width=40\n",
    "height=10\n",
    "area=height*width\n",
    "print(area)"
   ]
  },
  {
   "cell_type": "code",
   "execution_count": 2,
   "metadata": {},
   "outputs": [
    {
     "name": "stdout",
     "output_type": "stream",
     "text": [
      "False\n"
     ]
    }
   ],
   "source": [
    "print(True and False)"
   ]
  },
  {
   "cell_type": "code",
   "execution_count": 2,
   "metadata": {},
   "outputs": [
    {
     "name": "stdout",
     "output_type": "stream",
     "text": [
      "not satisfied\n"
     ]
    }
   ],
   "source": [
    "# in case of combination of true and false it always evaluates  and first (this is called order of preference)\n",
    "qty=9\n",
    "if (qty>0 and qty<5):\n",
    "    print(\"satisfied\")\n",
    "else:\n",
    "    print(\"not satisfied\")\n",
    "    "
   ]
  },
  {
   "cell_type": "code",
   "execution_count": 3,
   "metadata": {},
   "outputs": [],
   "source": []
  },
  {
   "cell_type": "code",
   "execution_count": 4,
   "metadata": {},
   "outputs": [
    {
     "data": {
      "text/plain": [
       "'print this'"
      ]
     },
     "execution_count": 4,
     "metadata": {},
     "output_type": "execute_result"
    }
   ],
   "source": []
  },
  {
   "cell_type": "code",
   "execution_count": 1,
   "metadata": {},
   "outputs": [
    {
     "name": "stdout",
     "output_type": "stream",
     "text": [
      "1\n",
      "2\n",
      "3\n",
      "4\n",
      "5\n"
     ]
    }
   ],
   "source": [
    "#loop\n",
    "for i in range(1,11):\n",
    "    print(i)\n",
    "    if(i<5):\n",
    "        continue\n",
    "    else:\n",
    "        break"
   ]
  },
  {
   "cell_type": "code",
   "execution_count": 3,
   "metadata": {},
   "outputs": [
    {
     "name": "stdout",
     "output_type": "stream",
     "text": [
      "9 is odd\n",
      "10 is even\n"
     ]
    }
   ],
   "source": [
    "#function defination\n",
    "def fn1(num):\n",
    "    if(num%2==0):\n",
    "        print(num,\"is even\")\n",
    "    else:\n",
    "        print(num,\"is odd\")\n",
    "        \n",
    "fn1(9)\n",
    "fn1(10)"
   ]
  },
  {
   "cell_type": "code",
   "execution_count": 4,
   "metadata": {},
   "outputs": [
    {
     "name": "stdout",
     "output_type": "stream",
     "text": [
      "10\n",
      "100\n"
     ]
    }
   ],
   "source": [
    "#global variable\n",
    "\n",
    "gvar=10\n",
    "def fn():\n",
    "    print(gvar)\n",
    "def fn1():\n",
    "    global gvar\n",
    "    gvar=100\n",
    "    \n",
    "fn()\n",
    "fn1()\n",
    "fn()"
   ]
  },
  {
   "cell_type": "code",
   "execution_count": 6,
   "metadata": {},
   "outputs": [
    {
     "name": "stdout",
     "output_type": "stream",
     "text": [
      "x: 1\n",
      "i: 0\n"
     ]
    }
   ],
   "source": [
    "#normal operator\n",
    "\n",
    "def generator():\n",
    "    for i in range(6):\n",
    "        return i+1 #after one execution it breaks out and executes below statement\n",
    "    \n",
    "x=generator()\n",
    "print('x:',x)\n",
    "for i in range(x):\n",
    "    print('i:',i)"
   ]
  },
  {
   "cell_type": "code",
   "execution_count": 8,
   "metadata": {},
   "outputs": [
    {
     "name": "stdout",
     "output_type": "stream",
     "text": [
      "i: 1\n",
      "i: 2\n",
      "i: 3\n",
      "i: 4\n",
      "i: 5\n",
      "i: 6\n"
     ]
    }
   ],
   "source": [
    "#yield operator\n",
    "\n",
    "def generator():\n",
    "    for i in range(6):\n",
    "        yield i+1\n",
    "#x=generator()\n",
    "#print('x:',x)\n",
    "for i in generator():\n",
    "    print('i:',i)"
   ]
  },
  {
   "cell_type": "code",
   "execution_count": null,
   "metadata": {},
   "outputs": [],
   "source": []
  }
 ],
 "metadata": {
  "kernelspec": {
   "display_name": "Python 3",
   "language": "python",
   "name": "python3"
  },
  "language_info": {
   "codemirror_mode": {
    "name": "ipython",
    "version": 3
   },
   "file_extension": ".py",
   "mimetype": "text/x-python",
   "name": "python",
   "nbconvert_exporter": "python",
   "pygments_lexer": "ipython3",
   "version": "3.8.3"
  }
 },
 "nbformat": 4,
 "nbformat_minor": 4
}
