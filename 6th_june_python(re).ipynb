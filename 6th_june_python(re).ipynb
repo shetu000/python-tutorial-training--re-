{
 "cells": [
  {
   "cell_type": "code",
   "execution_count": 1,
   "metadata": {},
   "outputs": [
    {
     "name": "stdout",
     "output_type": "stream",
     "text": [
      "10 apple cost $5.90\n"
     ]
    }
   ],
   "source": [
    "1.#parameters and arguments.\n",
    "def f10(qty,item,price):\n",
    "    print(f'{qty} {item} cost ${price:.2f}')\n",
    "f10(10,'apple',5.898)"
   ]
  },
  {
   "cell_type": "code",
   "execution_count": 2,
   "metadata": {},
   "outputs": [
    {
     "name": "stdout",
     "output_type": "stream",
     "text": [
      "banana 78 cost $6.00\n"
     ]
    }
   ],
   "source": [
    "f10('banana',78,6) #in case of this qty=banana, item=78 and price=6"
   ]
  },
  {
   "cell_type": "code",
   "execution_count": 3,
   "metadata": {},
   "outputs": [
    {
     "name": "stdout",
     "output_type": "stream",
     "text": [
      "70 cherry cost $90.00\n"
     ]
    }
   ],
   "source": [
    "2.#keyword arguments\n",
    "def f10(qty=70,item='cherry',price=90):\n",
    "    print(f'{qty} {item} cost ${price:.2f}')\n",
    "\n",
    "f10()\n",
    "#any argument has a default value should be in last .."
   ]
  },
  {
   "cell_type": "code",
   "execution_count": 2,
   "metadata": {},
   "outputs": [
    {
     "name": "stdout",
     "output_type": "stream",
     "text": [
      "5 cherry cost $90.00\n"
     ]
    }
   ],
   "source": [
    "#keyword arguments\n",
    "def f10(qty,item='cherry',price=90):\n",
    "    print(f'{qty} {item} cost ${price:.2f}')\n",
    "\n",
    "f10(5)\n",
    "#any argument has a default value should be in last .."
   ]
  },
  {
   "cell_type": "code",
   "execution_count": 9,
   "metadata": {},
   "outputs": [
    {
     "name": "stdout",
     "output_type": "stream",
     "text": [
      "100apple cost $2.00\n",
      "100apple cost $2.00\n",
      "100apple cost $2.00\n"
     ]
    }
   ],
   "source": [
    "#order does not matter if we set the default value as argument, it will show same output\n",
    "f10(qty=100,item='apple',price=2)\n",
    "f10(price=2,qty=100,item='apple')\n",
    "f10(item='apple',qty=100,price=2)\n"
   ]
  },
  {
   "cell_type": "code",
   "execution_count": null,
   "metadata": {},
   "outputs": [],
   "source": [
    "\n",
    "'''Funtions:\n",
    "   1. positional arguments: fn(qty,item,price)\n",
    "        order of the parameter matters\n",
    "        the number of parametermatters\n",
    "   2. keyword argument: fn(qty=10,item=apple,pice=50)\n",
    "        order does not matters\n",
    "        but number of parameters matters \n",
    "    3.Default parameters:fn(qty=1,item='apple',price=6.8)\n",
    "        ommit certain parameter. default values will be used for ommited parameters\n",
    "        default param value is defined only once when the function is defined\n",
    "        parameters with default value mst appear after non default value parameters[wrong:fn(qty=1,item,price) because qty=1 will be in last]\n",
    "        ex: fn()\n",
    "            fn(10)\n",
    "            fn(qty=10)\n",
    "            f10(qty=100,item='apple')\n",
    "            f10(price=2,qty=100,item='apple')\n",
    "            f10(item='apple',qty=100,price=2)'''\n",
    "       "
   ]
  },
  {
   "cell_type": "code",
   "execution_count": null,
   "metadata": {},
   "outputs": [],
   "source": [
    "#######################################################################################################################"
   ]
  },
  {
   "cell_type": "code",
   "execution_count": null,
   "metadata": {},
   "outputs": [],
   "source": [
    "3.#function is of two type\n",
    "\n",
    "'''1.call by value\n",
    "   2. call by reference......[list,tuple,set all comes under call by refernce]'''"
   ]
  },
  {
   "cell_type": "code",
   "execution_count": 24,
   "metadata": {},
   "outputs": [
    {
     "name": "stdout",
     "output_type": "stream",
     "text": [
      "['new value']\n"
     ]
    }
   ],
   "source": [
    "#list(call by refernce)\n",
    "\n",
    "def f11(myList=[]):\n",
    "    myList.append(\"new value\")\n",
    "    print(myList)\n",
    "\n",
    "f11()\n",
    "#f11(['foo','bye'])"
   ]
  },
  {
   "cell_type": "code",
   "execution_count": 25,
   "metadata": {},
   "outputs": [
    {
     "name": "stdout",
     "output_type": "stream",
     "text": [
      "['new value', 'new value']\n"
     ]
    }
   ],
   "source": [
    "f11() #output ['new value', 'new value']-> comes twice because it is a reference type so it remembers the previous value and keeps adding while we again run it"
   ]
  },
  {
   "cell_type": "code",
   "execution_count": 23,
   "metadata": {},
   "outputs": [
    {
     "name": "stdout",
     "output_type": "stream",
     "text": [
      "['foo', 'bye', 'new value']\n"
     ]
    }
   ],
   "source": [
    "#list(call by refernce)\n",
    "\n",
    "def f11(myList):\n",
    "    myList.append(\"new value\")\n",
    "    print(myList)\n",
    "\n",
    "f11(['foo','bye'])"
   ]
  },
  {
   "cell_type": "code",
   "execution_count": 29,
   "metadata": {},
   "outputs": [
    {
     "name": "stdout",
     "output_type": "stream",
     "text": [
      "['foo', 'bye', 'new value']\n"
     ]
    }
   ],
   "source": [
    "def f11(myList=['foo','bye']):\n",
    "    myList.append(\"new value\")\n",
    "    print(myList)\n",
    "\n",
    "f11() #output:['foo', 'bye', 'new value']"
   ]
  },
  {
   "cell_type": "code",
   "execution_count": 30,
   "metadata": {},
   "outputs": [
    {
     "name": "stdout",
     "output_type": "stream",
     "text": [
      "['foo', 'bye', 'new value', 'new value']\n"
     ]
    }
   ],
   "source": [
    "f11() #output :['foo', 'bye', 'new value', 'new value']"
   ]
  },
  {
   "cell_type": "code",
   "execution_count": 21,
   "metadata": {},
   "outputs": [
    {
     "name": "stdout",
     "output_type": "stream",
     "text": [
      "['']\n"
     ]
    }
   ],
   "source": [
    "def f11(list1=[]):\n",
    "    list1.append(\"\")#because we have to pass atleast one parameter to append otherwise it will throw error\n",
    "    print(list1)\n",
    "f11()"
   ]
  },
  {
   "cell_type": "code",
   "execution_count": 34,
   "metadata": {},
   "outputs": [
    {
     "name": "stdout",
     "output_type": "stream",
     "text": [
      "140713848252544\n",
      "['new value']\n"
     ]
    }
   ],
   "source": [
    "#basic program on list\n",
    "def f11(myList=None):    # None is actuallu Null value\n",
    "    print(id(myList))   #id function is used for getting the adress location \n",
    "    if(myList is None): #when we pass a list it will pass the reference /address of the new list\n",
    "        myList=[]\n",
    "    myList.append('new value')\n",
    "    print(myList)\n",
    "f11()"
   ]
  },
  {
   "cell_type": "code",
   "execution_count": null,
   "metadata": {},
   "outputs": [],
   "source": [
    "############################################################################################################################"
   ]
  },
  {
   "cell_type": "code",
   "execution_count": 4,
   "metadata": {},
   "outputs": [
    {
     "name": "stdout",
     "output_type": "stream",
     "text": [
      "x before: 40\n",
      "x after: foo\n",
      "40\n",
      "x before: {'foo': 1, 'bar': 2}\n",
      "x after: foo\n",
      "{'foo': 1, 'bar': 2}\n",
      "x before: bar\n",
      "x after: foo\n",
      "bar\n",
      "x before: ['foo', 'bar']\n",
      "x after: foo\n",
      "['foo', 'bar']\n"
     ]
    }
   ],
   "source": [
    "def fnfoo(x):\n",
    "    print(\"x before:\",x)\n",
    "    x='foo'\n",
    "    print(\"x after:\",x)\n",
    "for i in (40,dict(foo=1,bar=2),'bar',['foo','bar']):\n",
    "    fnfoo(i)\n",
    "    print(i)"
   ]
  },
  {
   "cell_type": "code",
   "execution_count": 7,
   "metadata": {},
   "outputs": [
    {
     "name": "stdout",
     "output_type": "stream",
     "text": [
      "x before: ['go', 'bye']\n",
      "x after: ['go', 'bye']\n",
      "['go', 'bye']\n"
     ]
    }
   ],
   "source": [
    "def fnfoo(x):\n",
    "    print(\"x before:\",x)\n",
    "    x[0]='---------'\n",
    "    print(\"x after:\",x)\n",
    "myList=['go','bye']\n",
    "fnfoo(myList)\n",
    "print(myList)"
   ]
  },
  {
   "cell_type": "code",
   "execution_count": 8,
   "metadata": {},
   "outputs": [
    {
     "name": "stdout",
     "output_type": "stream",
     "text": [
      "x before: {'key1': 20, 'key2': 89}\n",
      "x after: {'key1': 500, 'key2': 89}\n",
      "{'key1': 500, 'key2': 89}\n"
     ]
    }
   ],
   "source": [
    "def fnfoo(x):\n",
    "    print(\"x before:\",x)\n",
    "    x['key1']=500\n",
    "    print(\"x after:\",x)\n",
    "myDict={'key1': 20, 'key2':89}\n",
    "fnfoo(myDict)\n",
    "print(myDict)"
   ]
  },
  {
   "cell_type": "code",
   "execution_count": null,
   "metadata": {},
   "outputs": [],
   "source": [
    "#########################################################################################################################"
   ]
  },
  {
   "cell_type": "code",
   "execution_count": null,
   "metadata": {},
   "outputs": [],
   "source": [
    "#difference between compiler and interpreter\n",
    "\n",
    "'''\n",
    "Interpreter:\n",
    "    it avaluates and executes one statement/line at a time\n",
    "\n",
    "Compiler:\n",
    "    will check full code base\n",
    "    check for syntemx errors\n",
    "    check for many things \n",
    "    only everythings is fine , creates a binary output(executable)\n",
    "'''"
   ]
  },
  {
   "cell_type": "code",
   "execution_count": null,
   "metadata": {},
   "outputs": [],
   "source": [
    "#########################################################################################################################"
   ]
  },
  {
   "cell_type": "code",
   "execution_count": null,
   "metadata": {},
   "outputs": [],
   "source": [
    "#Lambda Function\n",
    "lambda x: x+1    \n",
    "\n",
    "#same as\n",
    "\n",
    "def fn(x):\n",
    "    return x+1"
   ]
  },
  {
   "cell_type": "code",
   "execution_count": 9,
   "metadata": {},
   "outputs": [
    {
     "data": {
      "text/plain": [
       "20"
      ]
     },
     "execution_count": 9,
     "metadata": {},
     "output_type": "execute_result"
    }
   ],
   "source": [
    "fn=lambda x:x+x\n",
    "fn(10)"
   ]
  },
  {
   "cell_type": "code",
   "execution_count": 10,
   "metadata": {},
   "outputs": [
    {
     "data": {
      "text/plain": [
       "145"
      ]
     },
     "execution_count": 10,
     "metadata": {},
     "output_type": "execute_result"
    }
   ],
   "source": [
    "var=lambda x,y:x+y\n",
    "var(56,89)"
   ]
  },
  {
   "cell_type": "code",
   "execution_count": 11,
   "metadata": {},
   "outputs": [
    {
     "data": {
      "text/plain": [
       "11"
      ]
     },
     "execution_count": 11,
     "metadata": {},
     "output_type": "execute_result"
    }
   ],
   "source": [
    "#another way of writing lambda and passing argument is this\n",
    "(lambda x:x+1)(10)"
   ]
  },
  {
   "cell_type": "code",
   "execution_count": 13,
   "metadata": {},
   "outputs": [
    {
     "data": {
      "text/plain": [
       "<function __main__.<lambda>(x)>"
      ]
     },
     "execution_count": 13,
     "metadata": {},
     "output_type": "execute_result"
    }
   ],
   "source": [
    "#another way of writing lambda and passing argument is this\n",
    "lambda x:x+x\n"
   ]
  },
  {
   "cell_type": "code",
   "execution_count": 14,
   "metadata": {},
   "outputs": [
    {
     "data": {
      "text/plain": [
       "20"
      ]
     },
     "execution_count": 14,
     "metadata": {},
     "output_type": "execute_result"
    }
   ],
   "source": [
    "_(10)"
   ]
  },
  {
   "cell_type": "code",
   "execution_count": null,
   "metadata": {},
   "outputs": [],
   "source": [
    "#########################################################################################################################3"
   ]
  },
  {
   "cell_type": "code",
   "execution_count": null,
   "metadata": {},
   "outputs": [],
   "source": [
    "1.#you are given some numbers(blocks).There can be 'n' blocks.\n",
    "'''\n",
    "Input from user:\n",
    "[5,4,2,1,4,5]\n",
    "stack these blocks one over the other.\n",
    "starting with the left most and picking either from the left most or top right most\n",
    "If is then print 'possible' otherwise 'Impossible'\n",
    "\n",
    "\n",
    "Block-1 (5)and Block-2(5)\n",
    "Block-1 can go over block-2 only if width(block2)>=width(block1)\n",
    "\n",
    "output:[5,5,4,4,2,1]\n",
    "\n",
    "Another Example\n",
    "Sample input:[10,6,4,2,5,3]\n",
    "at fiest    Block-1=10  and   Block-2=3\n",
    "--------Approach to solve--------------\n",
    "Block-2>Block-1 ? No so\n",
    "Block-2=10\n",
    "Block-1=5\n",
    "Block-2>Block-1 ? No so\n",
    "Block-2=10\n",
    "Block-1=2\n",
    "Block-2>Block-1 ? No so\n",
    "Block-2=10\n",
    "Block-1=4\n",
    "Block-2>Block-1 ? No so\n",
    "Impossible\n",
    "\n",
    "'''"
   ]
  },
  {
   "cell_type": "code",
   "execution_count": 4,
   "metadata": {},
   "outputs": [
    {
     "name": "stdout",
     "output_type": "stream",
     "text": [
      "4\n",
      "6.8 8.9\n"
     ]
    },
    {
     "ename": "ValueError",
     "evalue": "invalid literal for int() with base 10: '6.8'",
     "output_type": "error",
     "traceback": [
      "\u001b[1;31m---------------------------------------------------------------------------\u001b[0m",
      "\u001b[1;31mValueError\u001b[0m                                Traceback (most recent call last)",
      "\u001b[1;32m<ipython-input-4-29d24655d7da>\u001b[0m in \u001b[0;36m<module>\u001b[1;34m\u001b[0m\n\u001b[0;32m      1\u001b[0m \u001b[0mn\u001b[0m\u001b[1;33m=\u001b[0m\u001b[0mint\u001b[0m\u001b[1;33m(\u001b[0m\u001b[0minput\u001b[0m\u001b[1;33m(\u001b[0m\u001b[1;33m)\u001b[0m\u001b[1;33m)\u001b[0m\u001b[1;33m\u001b[0m\u001b[1;33m\u001b[0m\u001b[0m\n\u001b[1;32m----> 2\u001b[1;33m \u001b[0mlst\u001b[0m\u001b[1;33m=\u001b[0m\u001b[0mlist\u001b[0m\u001b[1;33m(\u001b[0m\u001b[0mmap\u001b[0m\u001b[1;33m(\u001b[0m\u001b[0mint\u001b[0m\u001b[1;33m,\u001b[0m\u001b[0minput\u001b[0m\u001b[1;33m(\u001b[0m\u001b[1;33m)\u001b[0m\u001b[1;33m.\u001b[0m\u001b[0msplit\u001b[0m\u001b[1;33m(\u001b[0m\u001b[1;33m)\u001b[0m\u001b[1;33m)\u001b[0m\u001b[1;33m)\u001b[0m\u001b[1;33m[\u001b[0m\u001b[1;33m:\u001b[0m\u001b[0mn\u001b[0m\u001b[1;33m]\u001b[0m \u001b[1;31m#this line will only take n number of element as input of list\u001b[0m\u001b[1;33m\u001b[0m\u001b[1;33m\u001b[0m\u001b[0m\n\u001b[0m\u001b[0;32m      3\u001b[0m \u001b[0mprint\u001b[0m\u001b[1;33m(\u001b[0m\u001b[0mlst\u001b[0m\u001b[1;33m)\u001b[0m\u001b[1;33m\u001b[0m\u001b[1;33m\u001b[0m\u001b[0m\n",
      "\u001b[1;31mValueError\u001b[0m: invalid literal for int() with base 10: '6.8'"
     ]
    }
   ],
   "source": [
    "n=int(input())\n",
    "lst=list(map(int,input().split()))[:n] #this line will only take n number of element as input of list \n",
    "print(lst)"
   ]
  },
  {
   "cell_type": "code",
   "execution_count": null,
   "metadata": {},
   "outputs": [],
   "source": [
    "######--------------Higher Order Function------------------######"
   ]
  },
  {
   "cell_type": "code",
   "execution_count": null,
   "metadata": {},
   "outputs": [],
   "source": [
    "'''\n",
    "Higher order function:\n",
    "            1. takes one or more function as parameter(argument) or\n",
    "            2.returns a function as a result or\n",
    "            3. do both 1 & 2\n",
    "\n",
    "'''"
   ]
  },
  {
   "cell_type": "code",
   "execution_count": 5,
   "metadata": {},
   "outputs": [
    {
     "data": {
      "text/plain": [
       "6"
      ]
     },
     "execution_count": 5,
     "metadata": {},
     "output_type": "execute_result"
    }
   ],
   "source": [
    "#example of higher order function\n",
    "def hof(num):\n",
    "    return num+num\n",
    "def finalfunction (x,func):\n",
    "    return x+func(x)\n",
    "finalfunction(2,hof)"
   ]
  },
  {
   "cell_type": "code",
   "execution_count": 6,
   "metadata": {},
   "outputs": [
    {
     "data": {
      "text/plain": [
       "6"
      ]
     },
     "execution_count": 6,
     "metadata": {},
     "output_type": "execute_result"
    }
   ],
   "source": [
    "#example of higher order function using lambda\n",
    "def hof(num):\n",
    "    return num+num\n",
    "finalfunction= lambda x, func: x+func(x)\n",
    "finalfunction(2,hof)"
   ]
  },
  {
   "cell_type": "code",
   "execution_count": 7,
   "metadata": {},
   "outputs": [
    {
     "data": {
      "text/plain": [
       "24"
      ]
     },
     "execution_count": 7,
     "metadata": {},
     "output_type": "execute_result"
    }
   ],
   "source": [
    "# lambda also takes default value , key values same as normal function\n",
    "(lambda x, y, z=7:x+y+z)(8,9)  "
   ]
  },
  {
   "cell_type": "code",
   "execution_count": null,
   "metadata": {},
   "outputs": [],
   "source": [
    "#######-------------------------String----------------------------------------########"
   ]
  },
  {
   "cell_type": "code",
   "execution_count": null,
   "metadata": {},
   "outputs": [],
   "source": [
    "'''\n",
    "String :\n",
    "    Immutable\n",
    "\n",
    "'''"
   ]
  },
  {
   "cell_type": "code",
   "execution_count": 9,
   "metadata": {},
   "outputs": [
    {
     "data": {
      "text/plain": [
       "'o'"
      ]
     },
     "execution_count": 9,
     "metadata": {},
     "output_type": "execute_result"
    }
   ],
   "source": [
    "s='hello'\n",
    "s[4]"
   ]
  },
  {
   "cell_type": "code",
   "execution_count": 10,
   "metadata": {},
   "outputs": [
    {
     "data": {
      "text/plain": [
       "'b'"
      ]
     },
     "execution_count": 10,
     "metadata": {},
     "output_type": "execute_result"
    }
   ],
   "source": [
    "s='bye' #we can reassign a value to a string but we can not change the content (positional value) of string\n",
    "s[0]"
   ]
  },
  {
   "cell_type": "code",
   "execution_count": 11,
   "metadata": {},
   "outputs": [
    {
     "ename": "TypeError",
     "evalue": "'str' object does not support item assignment",
     "output_type": "error",
     "traceback": [
      "\u001b[1;31m---------------------------------------------------------------------------\u001b[0m",
      "\u001b[1;31mTypeError\u001b[0m                                 Traceback (most recent call last)",
      "\u001b[1;32m<ipython-input-11-7eefde5a7578>\u001b[0m in \u001b[0;36m<module>\u001b[1;34m\u001b[0m\n\u001b[1;32m----> 1\u001b[1;33m \u001b[0ms\u001b[0m\u001b[1;33m[\u001b[0m\u001b[1;36m0\u001b[0m\u001b[1;33m]\u001b[0m\u001b[1;33m=\u001b[0m\u001b[1;34m'h'\u001b[0m\u001b[1;33m\u001b[0m\u001b[1;33m\u001b[0m\u001b[0m\n\u001b[0m",
      "\u001b[1;31mTypeError\u001b[0m: 'str' object does not support item assignment"
     ]
    }
   ],
   "source": [
    "s[0]='h'#but changing of positional values(content) can not be possible in case of string , so it will throw error\n",
    "\n"
   ]
  },
  {
   "cell_type": "code",
   "execution_count": null,
   "metadata": {},
   "outputs": [],
   "source": [
    "#######----------------------List-----------------------------------------------#########"
   ]
  },
  {
   "cell_type": "code",
   "execution_count": 13,
   "metadata": {},
   "outputs": [
    {
     "name": "stdout",
     "output_type": "stream",
     "text": [
      "[8, 9, 8, 0]\n"
     ]
    }
   ],
   "source": [
    "lst=[8,9,8,0]\n",
    "print(lst)\n"
   ]
  },
  {
   "cell_type": "code",
   "execution_count": null,
   "metadata": {},
   "outputs": [],
   "source": [
    "lst[0]=1\n",
    "print(lst) #  here first value of list changed beacuse list in mutable"
   ]
  },
  {
   "cell_type": "code",
   "execution_count": null,
   "metadata": {},
   "outputs": [],
   "source": [
    "###########---------------------Try-Catch-Block----------------------------------------------##########"
   ]
  },
  {
   "cell_type": "code",
   "execution_count": 2,
   "metadata": {},
   "outputs": [
    {
     "name": "stdout",
     "output_type": "stream",
     "text": [
      "exception occures\n"
     ]
    }
   ],
   "source": [
    "try:\n",
    "    x=10\n",
    "    y=x/0\n",
    "except:\n",
    "    print('exception occures')"
   ]
  },
  {
   "cell_type": "code",
   "execution_count": 3,
   "metadata": {},
   "outputs": [
    {
     "ename": "Exception",
     "evalue": "x should not be greater than 5",
     "output_type": "error",
     "traceback": [
      "\u001b[1;31m---------------------------------------------------------------------------\u001b[0m",
      "\u001b[1;31mException\u001b[0m                                 Traceback (most recent call last)",
      "\u001b[1;32m<ipython-input-3-b7cc73092b4d>\u001b[0m in \u001b[0;36m<module>\u001b[1;34m\u001b[0m\n\u001b[0;32m      1\u001b[0m \u001b[0mx\u001b[0m\u001b[1;33m=\u001b[0m\u001b[1;36m10\u001b[0m\u001b[1;33m\u001b[0m\u001b[1;33m\u001b[0m\u001b[0m\n\u001b[0;32m      2\u001b[0m \u001b[1;32mif\u001b[0m \u001b[0mx\u001b[0m\u001b[1;33m>\u001b[0m\u001b[1;36m5\u001b[0m\u001b[1;33m:\u001b[0m\u001b[1;33m\u001b[0m\u001b[1;33m\u001b[0m\u001b[0m\n\u001b[1;32m----> 3\u001b[1;33m     \u001b[1;32mraise\u001b[0m \u001b[0mException\u001b[0m\u001b[1;33m(\u001b[0m\u001b[1;34m'x should not be greater than 5'\u001b[0m\u001b[1;33m)\u001b[0m\u001b[1;33m\u001b[0m\u001b[1;33m\u001b[0m\u001b[0m\n\u001b[0m",
      "\u001b[1;31mException\u001b[0m: x should not be greater than 5"
     ]
    }
   ],
   "source": [
    "#we can raise our own exception like this\n",
    "x=10\n",
    "if x>5:\n",
    "    raise Exception('x should not be greater than 5')"
   ]
  },
  {
   "cell_type": "code",
   "execution_count": 3,
   "metadata": {},
   "outputs": [
    {
     "ename": "AssertionError",
     "evalue": "",
     "output_type": "error",
     "traceback": [
      "\u001b[1;31m---------------------------------------------------------------------------\u001b[0m",
      "\u001b[1;31mAssertionError\u001b[0m                            Traceback (most recent call last)",
      "\u001b[1;32m<ipython-input-3-858ef670d823>\u001b[0m in \u001b[0;36m<module>\u001b[1;34m\u001b[0m\n\u001b[0;32m      3\u001b[0m \u001b[1;31m#AssertionError\u001b[0m\u001b[1;33m\u001b[0m\u001b[1;33m\u001b[0m\u001b[1;33m\u001b[0m\u001b[0m\n\u001b[0;32m      4\u001b[0m \u001b[1;32mimport\u001b[0m \u001b[0msys\u001b[0m\u001b[1;33m\u001b[0m\u001b[1;33m\u001b[0m\u001b[0m\n\u001b[1;32m----> 5\u001b[1;33m \u001b[1;32massert\u001b[0m\u001b[1;33m(\u001b[0m\u001b[1;34m'linux'\u001b[0m \u001b[1;32min\u001b[0m \u001b[0msys\u001b[0m\u001b[1;33m.\u001b[0m\u001b[0mplatform\u001b[0m\u001b[1;33m)\u001b[0m\u001b[1;33m\u001b[0m\u001b[1;33m\u001b[0m\u001b[0m\n\u001b[0m",
      "\u001b[1;31mAssertionError\u001b[0m: "
     ]
    }
   ],
   "source": [
    "#we can raise exception by own also using 'assert' keyword\n",
    "\n",
    "#AssertionError \n",
    "import sys\n",
    "assert('linux' in sys.platform)"
   ]
  },
  {
   "cell_type": "code",
   "execution_count": 4,
   "metadata": {},
   "outputs": [
    {
     "name": "stdout",
     "output_type": "stream",
     "text": [
      "This is not a linux system\n"
     ]
    }
   ],
   "source": [
    "#example\n",
    "import sys\n",
    "def checklinux():\n",
    "    assert('linux' in sys.platform)\n",
    "    print(\"...some process\")\n",
    "try:\n",
    "    checklinux()\n",
    "except:\n",
    "    print(\"This is not a linux system\")"
   ]
  },
  {
   "cell_type": "code",
   "execution_count": 5,
   "metadata": {},
   "outputs": [
    {
     "name": "stdout",
     "output_type": "stream",
     "text": [
      "[Errno 2] No such file or directory: 'file.txt'\n"
     ]
    }
   ],
   "source": [
    "#example\n",
    "try:\n",
    "    f=open('file.txt','r+')\n",
    "    storeContent=f.read()\n",
    "except FileNotFoundError as error:\n",
    "    print(error)\n",
    "    "
   ]
  },
  {
   "cell_type": "code",
   "execution_count": null,
   "metadata": {},
   "outputs": [],
   "source": [
    "#########---------------Loops---------------------#########"
   ]
  },
  {
   "cell_type": "code",
   "execution_count": 6,
   "metadata": {},
   "outputs": [
    {
     "name": "stdout",
     "output_type": "stream",
     "text": [
      "Enter anything . Enter stop to stop the loop\n",
      "ghhh\n",
      "you entered: ghhh\n",
      "Enter anything . Enter stop to stop the loop\n",
      "stop\n"
     ]
    }
   ],
   "source": [
    "#program\n",
    "while True:\n",
    "    line=input(\"Enter anything . Enter stop to stop the loop\\n\")\n",
    "    if(line=='stop'):\n",
    "        break\n",
    "    print(\"you entered:\",line)"
   ]
  },
  {
   "cell_type": "code",
   "execution_count": 7,
   "metadata": {},
   "outputs": [
    {
     "data": {
      "text/plain": [
       "['hello', 'india']"
      ]
     },
     "execution_count": 7,
     "metadata": {},
     "output_type": "execute_result"
    }
   ],
   "source": [
    "s='hello india'\n",
    "s.split() #default delemeter a blank space"
   ]
  },
  {
   "cell_type": "code",
   "execution_count": 14,
   "metadata": {},
   "outputs": [
    {
     "data": {
      "text/plain": [
       "['hello india']"
      ]
     },
     "execution_count": 14,
     "metadata": {},
     "output_type": "execute_result"
    }
   ],
   "source": [
    "s.split(\",\")"
   ]
  },
  {
   "cell_type": "code",
   "execution_count": 9,
   "metadata": {},
   "outputs": [
    {
     "data": {
      "text/plain": [
       "'hollo india'"
      ]
     },
     "execution_count": 9,
     "metadata": {},
     "output_type": "execute_result"
    }
   ],
   "source": [
    "s.replace('he','ho')"
   ]
  },
  {
   "cell_type": "code",
   "execution_count": 15,
   "metadata": {},
   "outputs": [
    {
     "name": "stdout",
     "output_type": "stream",
     "text": [
      "hello india\n"
     ]
    }
   ],
   "source": [
    "print(s)"
   ]
  },
  {
   "cell_type": "code",
   "execution_count": 16,
   "metadata": {},
   "outputs": [
    {
     "name": "stdout",
     "output_type": "stream",
     "text": [
      "hello india\n",
      "hollo india\n"
     ]
    }
   ],
   "source": [
    "s2=s.replace('he','ho')\n",
    "print(s)\n",
    "print(s2)"
   ]
  },
  {
   "cell_type": "code",
   "execution_count": 11,
   "metadata": {},
   "outputs": [
    {
     "data": {
      "text/plain": [
       "11"
      ]
     },
     "execution_count": 11,
     "metadata": {},
     "output_type": "execute_result"
    }
   ],
   "source": [
    "len(s)"
   ]
  },
  {
   "cell_type": "code",
   "execution_count": 13,
   "metadata": {},
   "outputs": [
    {
     "data": {
      "text/plain": [
       "6"
      ]
     },
     "execution_count": 13,
     "metadata": {},
     "output_type": "execute_result"
    }
   ],
   "source": [
    "s.find('ind')"
   ]
  },
  {
   "cell_type": "code",
   "execution_count": 17,
   "metadata": {},
   "outputs": [
    {
     "data": {
      "text/plain": [
       "True"
      ]
     },
     "execution_count": 17,
     "metadata": {},
     "output_type": "execute_result"
    }
   ],
   "source": [
    "s.startswith('he') #retyrns true"
   ]
  },
  {
   "cell_type": "code",
   "execution_count": 19,
   "metadata": {},
   "outputs": [
    {
     "data": {
      "text/plain": [
       "True"
      ]
     },
     "execution_count": 19,
     "metadata": {},
     "output_type": "execute_result"
    }
   ],
   "source": [
    "s.endswith('dia')"
   ]
  },
  {
   "cell_type": "code",
   "execution_count": 18,
   "metadata": {},
   "outputs": [
    {
     "data": {
      "text/plain": [
       "False"
      ]
     },
     "execution_count": 18,
     "metadata": {},
     "output_type": "execute_result"
    }
   ],
   "source": [
    "s.isalpha() #returns false because it has one space in words"
   ]
  },
  {
   "cell_type": "code",
   "execution_count": 20,
   "metadata": {},
   "outputs": [
    {
     "data": {
      "text/plain": [
       "True"
      ]
     },
     "execution_count": 20,
     "metadata": {},
     "output_type": "execute_result"
    }
   ],
   "source": [
    "s3='ukiloi'\n",
    "s3.isalpha()"
   ]
  },
  {
   "cell_type": "code",
   "execution_count": 21,
   "metadata": {},
   "outputs": [
    {
     "data": {
      "text/plain": [
       "False"
      ]
     },
     "execution_count": 21,
     "metadata": {},
     "output_type": "execute_result"
    }
   ],
   "source": [
    "'s234'.isdigit() #output:false"
   ]
  },
  {
   "cell_type": "code",
   "execution_count": 24,
   "metadata": {},
   "outputs": [
    {
     "data": {
      "text/plain": [
       "True"
      ]
     },
     "execution_count": 24,
     "metadata": {},
     "output_type": "execute_result"
    }
   ],
   "source": [
    "\" \".isspace() #output:true"
   ]
  },
  {
   "cell_type": "code",
   "execution_count": 25,
   "metadata": {},
   "outputs": [
    {
     "name": "stdout",
     "output_type": "stream",
     "text": [
      "hello everyone\n"
     ]
    }
   ],
   "source": [
    "s4=\" hello everyone       \"\n",
    "print(s4.strip()) #it removes white spaces"
   ]
  },
  {
   "cell_type": "code",
   "execution_count": 30,
   "metadata": {},
   "outputs": [
    {
     "data": {
      "text/plain": [
       "'boneyonee'"
      ]
     },
     "execution_count": 30,
     "metadata": {},
     "output_type": "execute_result"
    }
   ],
   "source": [
    "\"one\".join('bye')"
   ]
  },
  {
   "cell_type": "code",
   "execution_count": 31,
   "metadata": {},
   "outputs": [
    {
     "data": {
      "text/plain": [
       "'twoonethree'"
      ]
     },
     "execution_count": 31,
     "metadata": {},
     "output_type": "execute_result"
    }
   ],
   "source": [
    "\"one\".join(['two','three'])"
   ]
  },
  {
   "cell_type": "code",
   "execution_count": 33,
   "metadata": {},
   "outputs": [
    {
     "data": {
      "text/plain": [
       "'one--------two--------three'"
      ]
     },
     "execution_count": 33,
     "metadata": {},
     "output_type": "execute_result"
    }
   ],
   "source": [
    "\"--------\".join(['one','two','three']) #join function is opposite of split"
   ]
  },
  {
   "cell_type": "code",
   "execution_count": null,
   "metadata": {},
   "outputs": [],
   "source": []
  }
 ],
 "metadata": {
  "kernelspec": {
   "display_name": "Python 3",
   "language": "python",
   "name": "python3"
  },
  "language_info": {
   "codemirror_mode": {
    "name": "ipython",
    "version": 3
   },
   "file_extension": ".py",
   "mimetype": "text/x-python",
   "name": "python",
   "nbconvert_exporter": "python",
   "pygments_lexer": "ipython3",
   "version": "3.8.3"
  }
 },
 "nbformat": 4,
 "nbformat_minor": 4
}
